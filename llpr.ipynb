{
  "cells": [
    {
      "cell_type": "markdown",
      "metadata": {},
      "source": [
        "\n",
        "# Computing LLPR uncertainties\n",
        "\n",
        "This tutorial demonstrates how to use an already trained and exported model\n",
        "from Python. It involves the computation of the local prediction rigidity\n",
        "([LPR](LPR_)) for every atom of a single ethanol molecule, using the\n",
        "last-layer prediction rigidity ([LLPR](LLPR_)) approximation.\n",
        "\n",
        "\n",
        "The model was trained using the following training options.\n",
        "\n",
        ".. literalinclude:: options.yaml\n",
        "   :language: yaml\n",
        "\n",
        "You can train the same model yourself with\n",
        "\n",
        ".. literalinclude:: train.sh\n",
        "   :language: bash\n",
        "\n",
        "A detailed step-by-step introduction on how to train a model is provided in\n",
        "the `label_basic_usage` tutorial.\n"
      ]
    },
    {
      "cell_type": "code",
      "execution_count": 1,
      "metadata": {
        "collapsed": false
      },
      "outputs": [],
      "source": [
        "import torch\n",
        "from metatensor.torch.atomistic import load_atomistic_model"
      ]
    },
    {
      "cell_type": "markdown",
      "metadata": {},
      "source": [
        "Exported models can be loaded using the `load_atomistic_model` function from the\n",
        "metatensor.torch.atomistic` module. The function requires the path to the exported\n",
        "model and, for many models, also the path to the respective extensions directory.\n",
        "Both are produced during the training process.\n",
        "\n"
      ]
    },
    {
      "cell_type": "code",
      "execution_count": 2,
      "metadata": {
        "collapsed": false
      },
      "outputs": [],
      "source": [
        "model = load_atomistic_model(\"model.pt\", extensions_directory=\"extensions/\")\n",
        "model = model.to(\"cpu\")"
      ]
    },
    {
      "cell_type": "markdown",
      "metadata": {},
      "source": [
        "In metatrain, a Dataset is composed of a list of systems and a dictionary of targets.\n",
        "The following lines illustrate how to read systems and targets from xyz files, and\n",
        "how to create a Dataset object from them.\n",
        "\n"
      ]
    },
    {
      "cell_type": "code",
      "execution_count": 3,
      "metadata": {
        "collapsed": false
      },
      "outputs": [],
      "source": [
        "from metatrain.utils.data import Dataset, read_systems, read_targets  # noqa: E402\n",
        "from metatrain.utils.neighbor_lists import get_system_with_neighbor_lists  # noqa: E402\n",
        "import omegaconf\n",
        "\n",
        "\n",
        "qm9_systems = read_systems(\"ethanol_reduced_100.xyz\", dtype=torch.float64)\n",
        "\n",
        "target_config = {\n",
        "    \"energy\": {\n",
        "        \"quantity\": \"energy\",\n",
        "        \"read_from\": \"ethanol_reduced_100.xyz\",\n",
        "        \"file_format\": \".xyz\",\n",
        "        \"key\": \"energy\",\n",
        "        \"unit\": \"kcal/mol\",\n",
        "        \"forces\": {\n",
        "            \"read_from\": \"ethanol_reduced_100.xyz\",\n",
        "            \"key\": \"forces\",\n",
        "            \"file_format\": \".xyz\",\n",
        "        },\n",
        "        \"stress\": False,\n",
        "        \"virial\": False,\n",
        "    },\n",
        "}\n",
        "targets, target_info = read_targets(target_config, dtype=torch.float64)\n",
        "\n",
        "requested_neighbor_lists = model.requested_neighbor_lists()\n",
        "qm9_systems = [\n",
        "    get_system_with_neighbor_lists(system, requested_neighbor_lists)\n",
        "    for system in qm9_systems\n",
        "]\n",
        "dataset = Dataset({\"system\": qm9_systems, **targets})\n",
        "\n",
        "# We also load a single ethanol molecule on which we will compute properties.\n",
        "# This system is loaded without targets, as we are only interested in the LPR\n",
        "# values.\n",
        "ethanol_system = read_systems(\"ethanol_reduced_100.xyz\", dtype=torch.float64)[0]\n",
        "ethanol_system = get_system_with_neighbor_lists(\n",
        "    ethanol_system, requested_neighbor_lists\n",
        ")"
      ]
    },
    {
      "cell_type": "markdown",
      "metadata": {},
      "source": [
        "The dataset is fully compatible with torch. For example, be used to create\n",
        "a DataLoader object.\n",
        "\n"
      ]
    },
    {
      "cell_type": "code",
      "execution_count": 4,
      "metadata": {
        "collapsed": false
      },
      "outputs": [],
      "source": [
        "from metatrain.utils.data import collate_fn  # noqa: E402\n",
        "\n",
        "\n",
        "dataloader = torch.utils.data.DataLoader(\n",
        "    dataset,\n",
        "    batch_size=10,\n",
        "    shuffle=False,\n",
        "    collate_fn=collate_fn,\n",
        ")"
      ]
    },
    {
      "cell_type": "code",
      "execution_count": 5,
      "metadata": {},
      "outputs": [
        {
          "name": "stdout",
          "output_type": "stream",
          "text": [
            "4\n"
          ]
        }
      ],
      "source": [
        "ll_params = []\n",
        "for name, param in model.named_parameters():\n",
        "    if \"last_layers\" in name and \"weight\" in name:\n",
        "        ll_params.append(param)\n",
        "print(len(ll_params))"
      ]
    },
    {
      "cell_type": "markdown",
      "metadata": {},
      "source": [
        "We now wrap the model in a LLPRUncertaintyModel object, which will allows us\n",
        "to compute prediction rigidity metrics, which are useful for uncertainty\n",
        "quantification and model introspection.\n",
        "\n"
      ]
    },
    {
      "cell_type": "code",
      "execution_count": 9,
      "metadata": {
        "collapsed": false
      },
      "outputs": [
        {
          "name": "stdout",
          "output_type": "stream",
          "text": [
            "tensor([[ 6.1554e+10, -1.9105e+11,  1.6567e+11,  ..., -3.8915e+10,\n",
            "         -4.0176e+10,  7.7346e+10],\n",
            "        [-1.9105e+11,  5.9509e+11, -5.1658e+11,  ...,  1.2133e+11,\n",
            "          1.2518e+11, -2.4106e+11],\n",
            "        [ 1.6567e+11, -5.1658e+11,  4.4873e+11,  ..., -1.0540e+11,\n",
            "         -1.0869e+11,  2.0935e+11],\n",
            "        ...,\n",
            "        [-3.8915e+10,  1.2133e+11, -1.0540e+11,  ...,  2.4764e+10,\n",
            "          2.5530e+10, -4.9173e+10],\n",
            "        [-4.0176e+10,  1.2518e+11, -1.0869e+11,  ...,  2.5530e+10,\n",
            "          2.6336e+10, -5.0716e+10],\n",
            "        [ 7.7346e+10, -2.4106e+11,  2.0935e+11,  ..., -4.9173e+10,\n",
            "         -5.0716e+10,  9.7679e+10]], dtype=torch.float64,\n",
            "       grad_fn=<AddBackward0>)\n"
          ]
        }
      ],
      "source": [
        "from metatensor.torch.atomistic import (  # noqa: E402\n",
        "    MetatensorAtomisticModel,\n",
        "    ModelMetadata,\n",
        ")\n",
        "\n",
        "from metatrain.utils.llpr import LLPRUncertaintyModel  # noqa: E402\n",
        "\n",
        "\n",
        "llpr_model = LLPRUncertaintyModel(model)\n",
        "llpr_model.eval()\n",
        "# llpr_model.compute_covariance(dataloader)\n",
        "\n",
        "from metatrain.utils.loss import TensorMapDictLoss\n",
        "loss_fn = TensorMapDictLoss(\n",
        "    weights={\n",
        "        \"energy\": 1.0,\n",
        "        \"energy_positions_gradients\": 0.0,\n",
        "    },\n",
        "    reduction=\"sum\"\n",
        ")\n",
        "\n",
        "llpr_model.compute_covariance_as_pseudo_hessian(dataloader, target_info, loss_fn, ll_params)\n",
        "print(llpr_model.covariance)\n",
        "\n",
        "llpr_model.compute_inverse_covariance()\n",
        "\n",
        "# calibrate on the same dataset for simplicity. In reality, a separate\n",
        "# calibration/validation dataset should be used.\n",
        "llpr_model.calibrate(dataloader)\n",
        "\n",
        "exported_model = MetatensorAtomisticModel(\n",
        "    llpr_model.eval(),\n",
        "    ModelMetadata(),\n",
        "    llpr_model.capabilities,\n",
        ")"
      ]
    },
    {
      "cell_type": "markdown",
      "metadata": {},
      "source": [
        "We can now use the model to compute the LPR for every atom in the ethanol molecule.\n",
        "To do so, we create a ModelEvaluationOptions object, which is used to request\n",
        "specific outputs from the model. In this case, we request the uncertainty in the\n",
        "atomic energy predictions.\n",
        "\n"
      ]
    },
    {
      "cell_type": "code",
      "execution_count": 26,
      "metadata": {
        "collapsed": false
      },
      "outputs": [],
      "source": [
        "from metatensor.torch.atomistic import ModelEvaluationOptions, ModelOutput  # noqa: E402\n",
        "\n",
        "\n",
        "evaluation_options = ModelEvaluationOptions(\n",
        "    length_unit=\"angstrom\",\n",
        "    outputs={\n",
        "        # request the uncertainty in the atomic energy predictions\n",
        "        \"mtt::aux::energy_uncertainty\": ModelOutput(per_atom=True),\n",
        "        # `per_atom=False` would return the total uncertainty for the system,\n",
        "        # or (the inverse of) the TPR (total prediction rigidity)\n",
        "        # you also can request other outputs from the model here, for example:\n",
        "        # \"energy\": ModelOutput(per_atom=True),\n",
        "        # \"mtt::aux::last_layer_features\": ModelOutput(per_atom=True),\n",
        "    },\n",
        "    selected_atoms=None,\n",
        ")\n",
        "\n",
        "outputs = exported_model([ethanol_system], evaluation_options, check_consistency=True)\n",
        "lpr = outputs[\"mtt::aux::energy_uncertainty\"].block().values.detach().cpu().numpy()"
      ]
    },
    {
      "cell_type": "markdown",
      "metadata": {},
      "source": [
        "We can now visualize the LPR values using the `plot_atoms` function from\n",
        "``ase.visualize.plot``.\n",
        "\n"
      ]
    },
    {
      "cell_type": "code",
      "execution_count": 27,
      "metadata": {
        "collapsed": false
      },
      "outputs": [
        {
          "data": {
            "image/png": "[encoded data removed]",
            "text/plain": [
              "<Figure size 640x480 with 2 Axes>"
            ]
          },
          "metadata": {},
          "output_type": "display_data"
        }
      ],
      "source": [
        "import ase.io  # noqa: E402\n",
        "import matplotlib.pyplot as plt  # noqa: E402\n",
        "from ase.visualize.plot import plot_atoms  # noqa: E402\n",
        "from matplotlib.colors import LogNorm  # noqa: E402\n",
        "\n",
        "\n",
        "structure = ase.io.read(\"ethanol_reduced_100.xyz\")\n",
        "norm = LogNorm(vmin=min(lpr), vmax=max(lpr))\n",
        "colormap = plt.get_cmap(\"viridis\")\n",
        "colors = colormap(norm(lpr))\n",
        "ax = plot_atoms(structure, colors=colors, rotation=\"180x,0y,0z\")\n",
        "custom_ticks = [1e10, 2e10, 5e10, 1e11, 2e11]\n",
        "cbar = plt.colorbar(\n",
        "    plt.cm.ScalarMappable(norm=norm, cmap=colormap),\n",
        "    ax=ax,\n",
        "    label=\"LPR\",\n",
        "    ticks=custom_ticks,\n",
        ")\n",
        "cbar.ax.set_yticklabels([f\"{tick:.0e}\" for tick in custom_ticks])\n",
        "cbar.minorticks_off()\n",
        "plt.show()"
      ]
    },
    {
      "cell_type": "code",
      "execution_count": null,
      "metadata": {},
      "outputs": [],
      "source": [
        "# missing: test that the two covariances are the same!\n",
        "# code to do force uncertainties (probably external)"
      ]
    },
    {
      "cell_type": "code",
      "execution_count": null,
      "metadata": {},
      "outputs": [],
      "source": []
    }
  ],
  "metadata": {
    "kernelspec": {
      "display_name": "Python 3",
      "language": "python",
      "name": "python3"
    },
    "language_info": {
      "codemirror_mode": {
        "name": "ipython",
        "version": 3
      },
      "file_extension": ".py",
      "mimetype": "text/x-python",
      "name": "python",
      "nbconvert_exporter": "python",
      "pygments_lexer": "ipython3",
      "version": "3.12.3"
    }
  },
  "nbformat": 4,
  "nbformat_minor": 0
}
